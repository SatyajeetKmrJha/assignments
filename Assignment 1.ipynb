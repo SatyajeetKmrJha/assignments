{
 "cells": [
  {
   "cell_type": "code",
   "execution_count": 1,
   "metadata": {},
   "outputs": [],
   "source": [
    "#Q2. Write a program which will find all such numbers which are divisible by 7 but are not a multiple of 5, between 2000 and 3200 (both included). The numbers obtained should be printed in a comma-separated sequence on a single line"
   ]
  },
  {
   "cell_type": "code",
   "execution_count": 98,
   "metadata": {},
   "outputs": [],
   "source": [
    "# data = []\n",
    "# for i in range(2000,3201):\n",
    "#     if i%7==0 and i%5 != 0 :\n",
    "#         print(i,sep=',',end=' ')\n"
   ]
  },
  {
   "cell_type": "code",
   "execution_count": 13,
   "metadata": {},
   "outputs": [
    {
     "name": "stdout",
     "output_type": "stream",
     "text": [
      "2002,2009,2016,2023,2037,2044,2051,2058,2072,2079,2086,2093,2107,2114,2121,2128,2142,2149,2156,2163,2177,2184,2191,2198,2212,2219,2226,2233,2247,2254,2261,2268,2282,2289,2296,2303,2317,2324,2331,2338,2352,2359,2366,2373,2387,2394,2401,2408,2422,2429,2436,2443,2457,2464,2471,2478,2492,2499,2506,2513,2527,2534,2541,2548,2562,2569,2576,2583,2597,2604,2611,2618,2632,2639,2646,2653,2667,2674,2681,2688,2702,2709,2716,2723,2737,2744,2751,2758,2772,2779,2786,2793,2807,2814,2821,2828,2842,2849,2856,2863,2877,2884,2891,2898,2912,2919,2926,2933,2947,2954,2961,2968,2982,2989,2996,3003,3017,3024,3031,3038,3052,3059,3066,3073,3087,3094,3101,3108,3122,3129,3136,3143,3157,3164,3171,3178,3192,3199\n"
     ]
    }
   ],
   "source": [
    "data = []\n",
    "for i in range(2000,3201):\n",
    "    if i%7==0 and i%5 != 0 :\n",
    "        data.append(i)\n",
    "print(*data,sep=',')"
   ]
  },
  {
   "cell_type": "code",
   "execution_count": 15,
   "metadata": {},
   "outputs": [],
   "source": [
    "#Q3.Write a Python program to accept the user's first and last name and then getting them printed in the the reverse order with a space between first name and last name. "
   ]
  },
  {
   "cell_type": "code",
   "execution_count": 16,
   "metadata": {},
   "outputs": [
    {
     "name": "stdout",
     "output_type": "stream",
     "text": [
      "Enter your first name and last nameSatyajeet Jha\n",
      "teejaytaS ahJ\n"
     ]
    }
   ],
   "source": [
    "firstName, lastName = input(\"Enter your first name and last name\").split()\n",
    "print(firstName[::-1] + \" \" + lastName[::-1])"
   ]
  },
  {
   "cell_type": "code",
   "execution_count": 18,
   "metadata": {},
   "outputs": [],
   "source": [
    "#Q4.Write a Python program to find the volume of a sphere with diameter 12 cm.  Formula: V=4/3 * π * r 3"
   ]
  },
  {
   "cell_type": "code",
   "execution_count": 20,
   "metadata": {},
   "outputs": [
    {
     "name": "stdout",
     "output_type": "stream",
     "text": [
      "904.7786842338603\n"
     ]
    }
   ],
   "source": [
    "import math\n",
    "diameter = 12\n",
    "radius = diameter/2\n",
    "valueOfPi = math.pi\n",
    "V=4/3 * valueOfPi * radius**3\n",
    "print(V)\n"
   ]
  },
  {
   "cell_type": "code",
   "execution_count": 27,
   "metadata": {},
   "outputs": [
    {
     "name": "stdout",
     "output_type": "stream",
     "text": [
      "Enter a sequence of comma separated numbers1,2,3,4,5,6,7,8\n",
      "[1, 2, 3, 4, 5, 6, 7, 8]\n"
     ]
    }
   ],
   "source": [
    "#Task2, Q1. Write a program which accepts a sequence of comma-separated numbers from console and generate a list.\n",
    "data = input(\"Enter a sequence of comma separated numbers\").split(',')\n",
    "#print(data)\n",
    "intData = [int(eachItem) for eachItem in data]\n",
    "print(intData)"
   ]
  },
  {
   "cell_type": "code",
   "execution_count": 23,
   "metadata": {},
   "outputs": [],
   "source": [
    "#Task2 , Q3. Write a Python program to reverse a word after accepting the input from the user."
   ]
  },
  {
   "cell_type": "code",
   "execution_count": 28,
   "metadata": {},
   "outputs": [
    {
     "name": "stdout",
     "output_type": "stream",
     "text": [
      "Enter a wordSatyajeet\n",
      "teejaytaS\n"
     ]
    }
   ],
   "source": [
    "userInput = input(\"Enter a word\")\n",
    "#print(userInput)\n",
    "reversedInput = userInput[::-1]\n",
    "print(reversedInput)"
   ]
  },
  {
   "cell_type": "code",
   "execution_count": 38,
   "metadata": {},
   "outputs": [],
   "source": [
    "#Task2, Q2. Create the below pattern using nested for loop in Python."
   ]
  },
  {
   "cell_type": "code",
   "execution_count": 39,
   "metadata": {},
   "outputs": [
    {
     "name": "stdout",
     "output_type": "stream",
     "text": [
      "* \r\n",
      "* * \r\n",
      "* * * \r\n",
      "* * * * \r\n",
      "* * * * * \r\n",
      "* * * * \r\n",
      "* * * \r\n",
      "* * \r\n",
      "* \r\n"
     ]
    }
   ],
   "source": [
    "for rows in range(0,5):\n",
    "    for columns in range(0,rows+1):\n",
    "        print(\"*\",end =\" \")\n",
    "    print(\"\\r\")\n",
    "for rows in range(4,0,-1):\n",
    "    for columns in range(0,rows):\n",
    "        print(\"*\",end=\" \")\n",
    "    print(\"\\r\")\n"
   ]
  },
  {
   "cell_type": "code",
   "execution_count": 41,
   "metadata": {},
   "outputs": [],
   "source": [
    "#Task2, Q4 : Write a Python Program to print the given string in the format specified in the ​sample output. "
   ]
  },
  {
   "cell_type": "code",
   "execution_count": 49,
   "metadata": {},
   "outputs": [
    {
     "name": "stdout",
     "output_type": "stream",
     "text": [
      "['WE', ' THE PEOPLE OF INDIA', ' having solemnly resolved to constitute India into a SOVEREIGN', ' ! SOCIALIST', ' SECULAR', ' DEMOCRATIC REPUBLIC and to secure to all its citizens ']\n"
     ]
    }
   ],
   "source": [
    "inputString = \"\"\"\n",
    "WE, THE PEOPLE OF INDIA, having solemnly resolved to constitute India into a \n",
    "SOVEREIGN, ! SOCIALIST, SECULAR, DEMOCRATIC REPUBLIC and to secure to all \n",
    "its citizens \"\"\"\n",
    "outputString = \"\"\"WE, THE PEOPLE OF INDIA,   \n",
    "                        having solemnly resolved to constitute India into a SOVEREIGN, !  \n",
    "                            SOCIALIST, SECULAR, DEMOCRATIC REPUBLIC    \n",
    "                            and to secure to all its citizens \"\"\"\n",
    "splitData = inputString.replace(\"\\n\",\"\").split(',')\n",
    "# print(\"\".join(splitData[:2]) + print(\"\\n\") + print(\"\\t\"))\n",
    "print(splitData)"
   ]
  },
  {
   "cell_type": "code",
   "execution_count": 52,
   "metadata": {},
   "outputs": [
    {
     "name": "stdout",
     "output_type": "stream",
     "text": [
      "WE, THE PEOPLE OF INDIA, having solemnly resolved to constitute India into a SOVEREIGN, ! SOCIALIST, SECULAR, DEMOCRATIC REPUBLIC and to secure to all its citizens \n"
     ]
    }
   ],
   "source": [
    "print(\",\".join(splitData))"
   ]
  },
  {
   "cell_type": "code",
   "execution_count": 80,
   "metadata": {},
   "outputs": [],
   "source": [
    "outputLine1 = splitData[0] + \",\" + splitData[1] + \",\"\n",
    "outputLine2 = splitData[2] + \", \" + splitData[3].split(' ')[1]\n",
    "outputLine3 = splitData[3].split(' ')[2] + \", \" + splitData[4] + \", \" + splitData[5].split(' ')[0] + ' ' + splitData[5].split(' ')[1] + ' ' + splitData[5].split(' ')[2]\n",
    "outputLine4 = splitData[5].split(' ')[3:]"
   ]
  },
  {
   "cell_type": "code",
   "execution_count": 71,
   "metadata": {},
   "outputs": [
    {
     "data": {
      "text/plain": [
       "'WE, THE PEOPLE OF INDIA,'"
      ]
     },
     "execution_count": 71,
     "metadata": {},
     "output_type": "execute_result"
    }
   ],
   "source": [
    "outputLine1"
   ]
  },
  {
   "cell_type": "code",
   "execution_count": 72,
   "metadata": {},
   "outputs": [
    {
     "data": {
      "text/plain": [
       "' having solemnly resolved to constitute India into a SOVEREIGN, !'"
      ]
     },
     "execution_count": 72,
     "metadata": {},
     "output_type": "execute_result"
    }
   ],
   "source": [
    "outputLine2"
   ]
  },
  {
   "cell_type": "code",
   "execution_count": 78,
   "metadata": {},
   "outputs": [
    {
     "data": {
      "text/plain": [
       "'SOCIALIST,  SECULAR,  DEMOCRATIC REPUBLIC'"
      ]
     },
     "execution_count": 78,
     "metadata": {},
     "output_type": "execute_result"
    }
   ],
   "source": [
    "outputLine3"
   ]
  },
  {
   "cell_type": "code",
   "execution_count": 82,
   "metadata": {},
   "outputs": [
    {
     "data": {
      "text/plain": [
       "'and to secure to all its citizens '"
      ]
     },
     "execution_count": 82,
     "metadata": {},
     "output_type": "execute_result"
    }
   ],
   "source": [
    "\" \".join(outputLine4)"
   ]
  },
  {
   "cell_type": "code",
   "execution_count": 95,
   "metadata": {},
   "outputs": [
    {
     "name": "stdout",
     "output_type": "stream",
     "text": [
      "WE, THE PEOPLE OF INDIA, \n",
      "     having solemnly resolved to constitute India into a SOVEREIGN, !\n",
      "        SOCIALIST,  SECULAR,  DEMOCRATIC REPUBLIC\n",
      "        and to secure to all its citizens \n"
     ]
    }
   ],
   "source": [
    "temp = outputLine1\n",
    "temp2 = outputLine2\n",
    "temp3 = outputLine3\n",
    "temp4 = \" \".join(outputLine4)\n",
    "tempOut = \"\"\"{} \n",
    "    {}\n",
    "        {}\n",
    "        {}\"\"\".format(temp,temp2,temp3,temp4)\n",
    "print(tempOut)"
   ]
  },
  {
   "cell_type": "code",
   "execution_count": null,
   "metadata": {},
   "outputs": [],
   "source": []
  }
 ],
 "metadata": {
  "kernelspec": {
   "display_name": "Python 3",
   "language": "python",
   "name": "python3"
  },
  "language_info": {
   "codemirror_mode": {
    "name": "ipython",
    "version": 3
   },
   "file_extension": ".py",
   "mimetype": "text/x-python",
   "name": "python",
   "nbconvert_exporter": "python",
   "pygments_lexer": "ipython3",
   "version": "3.7.6"
  }
 },
 "nbformat": 4,
 "nbformat_minor": 4
}
